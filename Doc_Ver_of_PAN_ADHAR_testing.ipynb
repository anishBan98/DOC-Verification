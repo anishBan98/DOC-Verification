{
  "nbformat": 4,
  "nbformat_minor": 0,
  "metadata": {
    "colab": {
      "name": "Doc Ver of PAN ADHAR testing",
      "provenance": [],
      "collapsed_sections": [],
      "toc_visible": true
    },
    "kernelspec": {
      "name": "python3",
      "display_name": "Python 3"
    }
  },
  "cells": [
    {
      "cell_type": "code",
      "metadata": {
        "id": "IdGGb6x2-J3_",
        "colab_type": "code",
        "outputId": "3b5514fe-d77e-4cab-8b53-e2714674f32b",
        "colab": {
          "base_uri": "https://localhost:8080/",
          "height": 263
        }
      },
      "source": [
        "# install pnslib\n",
        "!pip install git+git://github.com/PnS2019/pnslib.git\n",
        "#!wget https://pns2019.github.io/images/Lenna.png"
      ],
      "execution_count": 0,
      "outputs": [
        {
          "output_type": "stream",
          "text": [
            "Collecting git+git://github.com/PnS2019/pnslib.git\n",
            "  Cloning git://github.com/PnS2019/pnslib.git to /tmp/pip-req-build-e4tihjpf\n",
            "  Running command git clone -q git://github.com/PnS2019/pnslib.git /tmp/pip-req-build-e4tihjpf\n",
            "Requirement already satisfied: numpy in /usr/local/lib/python3.6/dist-packages (from pnslib==0.1.0a1) (1.18.2)\n",
            "Requirement already satisfied: scipy in /usr/local/lib/python3.6/dist-packages (from pnslib==0.1.0a1) (1.4.1)\n",
            "Requirement already satisfied: future in /usr/local/lib/python3.6/dist-packages (from pnslib==0.1.0a1) (0.16.0)\n",
            "Building wheels for collected packages: pnslib\n",
            "  Building wheel for pnslib (setup.py) ... \u001b[?25l\u001b[?25hdone\n",
            "  Created wheel for pnslib: filename=pnslib-0.1.0a1-cp36-none-any.whl size=1489618 sha256=202905f89dd36d330aea3cf3ea6dd14b1a793a3c2fc6f1ed0f23a4065b69323b\n",
            "  Stored in directory: /tmp/pip-ephem-wheel-cache-8frebdem/wheels/a2/8e/a9/c62e72840009deaa723b3a113d5c3b90acac77098d16e90eca\n",
            "Successfully built pnslib\n",
            "Installing collected packages: pnslib\n",
            "Successfully installed pnslib-0.1.0a1\n"
          ],
          "name": "stdout"
        }
      ]
    },
    {
      "cell_type": "code",
      "metadata": {
        "id": "fK1moQX0VSwM",
        "colab_type": "code",
        "outputId": "596728f9-90b3-4b06-a212-9a3882992648",
        "colab": {
          "base_uri": "https://localhost:8080/",
          "height": 402
        }
      },
      "source": [
        "!pip install pillow\n",
        "!pip install tesseract\n",
        "!pip install pytesseract"
      ],
      "execution_count": 0,
      "outputs": [
        {
          "output_type": "stream",
          "text": [
            "Requirement already satisfied: pillow in /usr/local/lib/python3.6/dist-packages (7.0.0)\n",
            "Collecting tesseract\n",
            "\u001b[?25l  Downloading https://files.pythonhosted.org/packages/8d/b7/c4fae9af5842f69d9c45bf1195a94aec090628535c102894552a7a7dbe6c/tesseract-0.1.3.tar.gz (45.6MB)\n",
            "\u001b[K     |████████████████████████████████| 45.6MB 87kB/s \n",
            "\u001b[?25hBuilding wheels for collected packages: tesseract\n",
            "  Building wheel for tesseract (setup.py) ... \u001b[?25l\u001b[?25hdone\n",
            "  Created wheel for tesseract: filename=tesseract-0.1.3-cp36-none-any.whl size=45562571 sha256=4b06f0c2090aad82c965864048144fd32c95250f5126cf902c5712e588dc0e11\n",
            "  Stored in directory: /root/.cache/pip/wheels/82/1f/d9/24797b123379e4ea9511cf660835468b62dad609634cad2aba\n",
            "Successfully built tesseract\n",
            "Installing collected packages: tesseract\n",
            "Successfully installed tesseract-0.1.3\n",
            "Collecting pytesseract\n",
            "  Downloading https://files.pythonhosted.org/packages/3c/1d/2993a05adb253902a372d7886733ae7688615cf000c54fe3c075892cb5d4/pytesseract-0.3.3.tar.gz\n",
            "Requirement already satisfied: Pillow in /usr/local/lib/python3.6/dist-packages (from pytesseract) (7.0.0)\n",
            "Building wheels for collected packages: pytesseract\n",
            "  Building wheel for pytesseract (setup.py) ... \u001b[?25l\u001b[?25hdone\n",
            "  Created wheel for pytesseract: filename=pytesseract-0.3.3-py2.py3-none-any.whl size=13396 sha256=253d8dc13d2ea5d989eab9ae4cda034bd97dcdccc4cb88cef4cae02af743514d\n",
            "  Stored in directory: /root/.cache/pip/wheels/82/1a/d0/a884540a5602305f5bb7ff44f05550be20453edce8fae69241\n",
            "Successfully built pytesseract\n",
            "Installing collected packages: pytesseract\n",
            "Successfully installed pytesseract-0.3.3\n"
          ],
          "name": "stdout"
        }
      ]
    },
    {
      "cell_type": "code",
      "metadata": {
        "id": "vqZdr2Weas0p",
        "colab_type": "code",
        "outputId": "051f628f-8853-4dc6-e883-d98478dd28cf",
        "colab": {
          "base_uri": "https://localhost:8080/",
          "height": 141
        }
      },
      "source": [
        "!pip install image"
      ],
      "execution_count": 0,
      "outputs": [
        {
          "output_type": "stream",
          "text": [
            "Requirement already satisfied: image in /usr/local/lib/python3.6/dist-packages (1.5.28)\n",
            "Requirement already satisfied: django in /usr/local/lib/python3.6/dist-packages (from image) (3.0.4)\n",
            "Requirement already satisfied: pillow in /usr/local/lib/python3.6/dist-packages (from image) (7.0.0)\n",
            "Requirement already satisfied: pytz in /usr/local/lib/python3.6/dist-packages (from django->image) (2018.9)\n",
            "Requirement already satisfied: sqlparse>=0.2.2 in /usr/local/lib/python3.6/dist-packages (from django->image) (0.3.1)\n",
            "Requirement already satisfied: asgiref~=3.2 in /usr/local/lib/python3.6/dist-packages (from django->image) (3.2.5)\n"
          ],
          "name": "stdout"
        }
      ]
    },
    {
      "cell_type": "code",
      "metadata": {
        "id": "DIIsgNi7VbcJ",
        "colab_type": "code",
        "outputId": "022463cf-7718-46d2-eccf-37c3dee64ec4",
        "colab": {
          "base_uri": "https://localhost:8080/",
          "height": 680
        }
      },
      "source": [
        "!sudo apt install tesseract-ocr\n",
        "!pip install pytesseract"
      ],
      "execution_count": 0,
      "outputs": [
        {
          "output_type": "stream",
          "text": [
            "Reading package lists... Done\n",
            "Building dependency tree       \n",
            "Reading state information... Done\n",
            "The following additional packages will be installed:\n",
            "  tesseract-ocr-eng tesseract-ocr-osd\n",
            "The following NEW packages will be installed:\n",
            "  tesseract-ocr tesseract-ocr-eng tesseract-ocr-osd\n",
            "0 upgraded, 3 newly installed, 0 to remove and 25 not upgraded.\n",
            "Need to get 4,795 kB of archives.\n",
            "After this operation, 15.8 MB of additional disk space will be used.\n",
            "Get:1 http://archive.ubuntu.com/ubuntu bionic/universe amd64 tesseract-ocr-eng all 4.00~git24-0e00fe6-1.2 [1,588 kB]\n",
            "Get:2 http://archive.ubuntu.com/ubuntu bionic/universe amd64 tesseract-ocr-osd all 4.00~git24-0e00fe6-1.2 [2,989 kB]\n",
            "Get:3 http://archive.ubuntu.com/ubuntu bionic/universe amd64 tesseract-ocr amd64 4.00~git2288-10f4998a-2 [218 kB]\n",
            "Fetched 4,795 kB in 2s (2,782 kB/s)\n",
            "debconf: unable to initialize frontend: Dialog\n",
            "debconf: (No usable dialog-like program is installed, so the dialog based frontend cannot be used. at /usr/share/perl5/Debconf/FrontEnd/Dialog.pm line 76, <> line 3.)\n",
            "debconf: falling back to frontend: Readline\n",
            "debconf: unable to initialize frontend: Readline\n",
            "debconf: (This frontend requires a controlling tty.)\n",
            "debconf: falling back to frontend: Teletype\n",
            "dpkg-preconfigure: unable to re-open stdin: \n",
            "Selecting previously unselected package tesseract-ocr-eng.\n",
            "(Reading database ... 133872 files and directories currently installed.)\n",
            "Preparing to unpack .../tesseract-ocr-eng_4.00~git24-0e00fe6-1.2_all.deb ...\n",
            "Unpacking tesseract-ocr-eng (4.00~git24-0e00fe6-1.2) ...\n",
            "Selecting previously unselected package tesseract-ocr-osd.\n",
            "Preparing to unpack .../tesseract-ocr-osd_4.00~git24-0e00fe6-1.2_all.deb ...\n",
            "Unpacking tesseract-ocr-osd (4.00~git24-0e00fe6-1.2) ...\n",
            "Selecting previously unselected package tesseract-ocr.\n",
            "Preparing to unpack .../tesseract-ocr_4.00~git2288-10f4998a-2_amd64.deb ...\n",
            "Unpacking tesseract-ocr (4.00~git2288-10f4998a-2) ...\n",
            "Setting up tesseract-ocr-osd (4.00~git24-0e00fe6-1.2) ...\n",
            "Setting up tesseract-ocr-eng (4.00~git24-0e00fe6-1.2) ...\n",
            "Setting up tesseract-ocr (4.00~git2288-10f4998a-2) ...\n",
            "Processing triggers for man-db (2.8.3-2ubuntu0.1) ...\n",
            "Requirement already satisfied: pytesseract in /usr/local/lib/python3.6/dist-packages (0.3.3)\n",
            "Requirement already satisfied: Pillow in /usr/local/lib/python3.6/dist-packages (from pytesseract) (7.0.0)\n"
          ],
          "name": "stdout"
        }
      ]
    },
    {
      "cell_type": "code",
      "metadata": {
        "id": "5M1P4moYohBV",
        "colab_type": "code",
        "outputId": "88b1bae9-1afb-4336-f348-a8b0baa15714",
        "colab": {
          "base_uri": "https://localhost:8080/",
          "height": 34
        }
      },
      "source": [
        "import cv2\n",
        "print(cv2.__version__)"
      ],
      "execution_count": 0,
      "outputs": [
        {
          "output_type": "stream",
          "text": [
            "4.1.2\n"
          ],
          "name": "stdout"
        }
      ]
    },
    {
      "cell_type": "code",
      "metadata": {
        "id": "byNafGCB-k1I",
        "colab_type": "code",
        "outputId": "461080e4-a4ab-477e-9bb5-8c43b43487c7",
        "colab": {
          "base_uri": "https://localhost:8080/",
          "height": 286
        }
      },
      "source": [
        "##First Phase of detection to check if it a valid photo ID proof or not\n",
        "\n",
        "import cv2\n",
        "from pnslib import utils\n",
        "import matplotlib.pyplot as plt\n",
        "\n",
        "# read image\n",
        "img = cv2.imread(\"/content/Aadhar/test3.jpg\")\n",
        "\n",
        "# load face cascade and eye cascade\n",
        "face_cascade = cv2.CascadeClassifier(\n",
        "    utils.get_haarcascade_path('haarcascade_frontalface_default.xml'))\n",
        "eye_cascade = cv2.CascadeClassifier(\n",
        "    utils.get_haarcascade_path('haarcascade_eye.xml'))\n",
        "\n",
        "# search face\n",
        "gray = cv2.cvtColor(img, cv2.COLOR_BGR2GRAY)\n",
        "\n",
        "faces = face_cascade.detectMultiScale(gray, 1.3, 5)\n",
        "count=0\n",
        "for face in faces:\n",
        "  count=count+1\n",
        "if count:\n",
        "  print(\"Photo ID Proof\")\n",
        "else:\n",
        "  print(\"Not Photo ID or Face not clear...Retry with a clearer scan\")\n",
        "  \n",
        "for (x, y, w, h) in faces:\n",
        "    cv2.rectangle(img, (x, y), (x+w, y+h), (255, 0, 0), 2)\n",
        "    roi_gray = gray[y:y+h, x:x+w]\n",
        "    roi_color = img[y:y+h, x:x+w]\n",
        "    eyes = eye_cascade.detectMultiScale(roi_gray)\n",
        "    for (ex, ey, ew, eh) in eyes:\n",
        "        cv2.rectangle(roi_color, (ex, ey), (ex+ew, ey+eh), (0, 255, 0), 2)\n",
        "\n",
        "\n",
        "img = cv2.cvtColor(img, cv2.COLOR_BGR2RGB)\n",
        "plt.figure()\n",
        "plt.imshow(img)\n",
        "plt.show()"
      ],
      "execution_count": 0,
      "outputs": [
        {
          "output_type": "stream",
          "text": [
            "Photo ID Proof\n"
          ],
          "name": "stdout"
        },
        {
          "output_type": "display_data",
          "data": {
            "image/png": "[encoded data removed]",
            "text/plain": [
              "<Figure size 432x288 with 1 Axes>"
            ]
          },
          "metadata": {
            "tags": []
          }
        }
      ]
    },
    {
      "cell_type": "code",
      "metadata": {
        "id": "GTfjEQLoZAou",
        "colab_type": "code",
        "outputId": "c69e87d0-0cba-43a3-d733-5f6d7f940ef1",
        "colab": {
          "base_uri": "https://localhost:8080/",
          "height": 625
        }
      },
      "source": [
        "import pytesseract\n",
        "import shutil\n",
        "import os\n",
        "import random\n",
        "import cv2\n",
        "try:\n",
        " from PIL import Image\n",
        "except ImportError:\n",
        " import Image\n",
        "\n",
        "\n",
        "image_path_in_colab=\"/content/Aadhar/test3.jpg\"\n",
        "img=Image.open(image_path_in_colab)\n",
        "text = pytesseract.image_to_string(img, lang=\"eng\")\n",
        "\n",
        "print(text)"
      ],
      "execution_count": 0,
      "outputs": [
        {
          "output_type": "stream",
          "text": [
            "aia eat\n",
            "\n",
            "\"Rajeev Sharma\n",
            "SEH aH 0B:1982\n",
            "\n",
            "PT Male\n",
            "\n",
            "  \n",
            "\n",
            "6903 2611 1844\n",
            "\n",
            "» Ge RRE TEE TiRECT\n",
            "\n",
            " \n",
            "\n",
            "  \n",
            "\n",
            "UNIQUE IDENTIFICATION AUTHORITY OF INDIA\n",
            "ae Address:\n",
            "SIO: Aor Fag, #418 ‘S/O: Nepal Singh, # 418 gali no\n",
            "\n",
            "sige. 1, Post office -kishan pura,\n",
            "\n",
            "wet ~ police check post new mutan\n",
            "\n",
            "farerer gr, state Gap nagar, bhola road meerut,\n",
            "Meerut, Navinmandi, Meerut\n",
            "\n",
            "SIE FLATT FAT, Uttar Pradesh, 250002\n",
            "\n",
            "star te Ate, a,\n",
            "\n",
            "waters, AS\n",
            "\n",
            "Beem wee 250002\n"
          ],
          "name": "stdout"
        }
      ]
    },
    {
      "cell_type": "code",
      "metadata": {
        "id": "3jeqG8qPM3YR",
        "colab_type": "code",
        "outputId": "ad3e33a4-69c4-4e02-b392-d9ab711ddb50",
        "colab": {
          "base_uri": "https://localhost:8080/",
          "height": 625
        }
      },
      "source": [
        "print(text)"
      ],
      "execution_count": 0,
      "outputs": [
        {
          "output_type": "stream",
          "text": [
            "aia eat\n",
            "\n",
            "\"Rajeev Sharma\n",
            "SEH aH 0B:1982\n",
            "\n",
            "PT Male\n",
            "\n",
            "  \n",
            "\n",
            "6903 2611 1844\n",
            "\n",
            "» Ge RRE TEE TiRECT\n",
            "\n",
            " \n",
            "\n",
            "  \n",
            "\n",
            "UNIQUE IDENTIFICATION AUTHORITY OF INDIA\n",
            "ae Address:\n",
            "SIO: Aor Fag, #418 ‘S/O: Nepal Singh, # 418 gali no\n",
            "\n",
            "sige. 1, Post office -kishan pura,\n",
            "\n",
            "wet ~ police check post new mutan\n",
            "\n",
            "farerer gr, state Gap nagar, bhola road meerut,\n",
            "Meerut, Navinmandi, Meerut\n",
            "\n",
            "SIE FLATT FAT, Uttar Pradesh, 250002\n",
            "\n",
            "star te Ate, a,\n",
            "\n",
            "waters, AS\n",
            "\n",
            "Beem wee 250002\n"
          ],
          "name": "stdout"
        }
      ]
    },
    {
      "cell_type": "code",
      "metadata": {
        "id": "k0SA0TIXF_nL",
        "colab_type": "code",
        "outputId": "2e4448c6-1c36-4f19-c092-1f5b5f674d5b",
        "colab": {
          "base_uri": "https://localhost:8080/",
          "height": 52
        }
      },
      "source": [
        "# function to check if small string is \n",
        "# there in big string \n",
        "\n",
        "def check_name(string,sub_string):\n",
        "    if (string.find(sub_string)==-1):\n",
        "        return 0\n",
        "    else:\n",
        "        return 1\n",
        "    return\n",
        "\n",
        "string = text\n",
        "names =[\"Name\",\"Name:\",\"NAME\",\"NAME:\",\"name\",\"Name :\",\"NaMe\",\"NAME :\",\"nAmE\"]\n",
        "gender=[\"Male\",\"MALE\",\"male\",\"FEMALE\",\"Female\",\"female\",\"Others\",\"Other\",\"OTHERS\",\"others\"]\n",
        "dobs=[\"Date Of Birth\",\"DOB\",\"yob\",\"YOB\",\"YoB\",\"yob:\",\"YOB:\",\"YoB:\",\"dob\",\"date of birth\",\"dateofbirth\",\"DateofBirth\",\"dateOfbirth\",\"Year of Birth\",\"year of birth\",\"year of birth:\",\"Year of Birth:\",\"Birthday\",\"birthday\",\"BIRTHDAY\",\"DateOfBirth\",\"DateOfBirth:\",\"Date Of Birth:\",\"DOB:\",\"dob:\",\"date of birth:\",\"dateofbirth:\",\"DateofBirth:\",\"dateOfbirth:\",\"Birthday:\",\"birthday:\",\"BIRTHDAY:\"]\n",
        "adds=[\"Address\",\"address\",\"Permanent Address\",\"permanent adddress\",\"PermanentAddress\",\"Permanent address\",\"Permanentaddress\",\"adress\",\"Parmanent adress\",\"Address:\",\"address:\",\"Permanent Address:\",\"permanent adddress:\",\"PermanentAddress:\",\"Permanent address:\",\"Permanentaddress:\",\"adress:\",\"Parmanent adress:\"]\n",
        "adhar=[\"UNIQUE IDENTIFICATION AUTHORITY OF INDIA\",\"UNIQUE IDENTIFICATION AUTHORITY\",\"UNIQUE IDENTIFICATION\",\"AUTHORITY OF INDIA\",\"IDENTIFICATION AUTHORITY\",\"UNIQUE\",\"IDENTIFICATION\"]\n",
        "pan=[\"INCOME TAX DEPARTMENT\",\"INCOME TAX\",\"INCOME\",\"TAX DEPARTMENT\",\"TAX\",\"Permanent Account Number Card\",\"Permanent Account\",\"Account Number Card\",\"Permanent Account Number\",\"Permanen Acc\",\"Permanent Number Card\"]\n",
        "for sub_str in names:\n",
        "    #print(sub_str)\n",
        "    name=check_name(string, sub_str) \n",
        "    if name:\n",
        "        break\n",
        "for sub in dobs:\n",
        "    #print(sub)\n",
        "    dob=check_name(string, sub)\n",
        "    if dob:\n",
        "        break\n",
        "for subs in adds:\n",
        "    #print(subs)\n",
        "    address=check_name(string, subs) \n",
        "    if address:\n",
        "        break\n",
        "\n",
        "for gen in gender:\n",
        "    #print(subs)\n",
        "    gender=check_name(string, gen) \n",
        "    if gender:\n",
        "        break  \n",
        "for aad in adhar:\n",
        "    #print(subs)\n",
        "    adhar=check_name(string, aad) \n",
        "    if adhar:\n",
        "        print(\"ADHAR CARD DETECTED\")\n",
        "        break \n",
        "for pn in pan:\n",
        "    #print(subs)\n",
        "    pan=check_name(string, pn) \n",
        "    if pan:\n",
        "        print(\"PAN CARD DETECTED\")\n",
        "        break                       \n",
        "\n",
        "print(name,dob,gender,address)"
      ],
      "execution_count": 0,
      "outputs": [
        {
          "output_type": "stream",
          "text": [
            "ADHAR CARD\n",
            "0 0 1 1\n"
          ],
          "name": "stdout"
        }
      ]
    },
    {
      "cell_type": "code",
      "metadata": {
        "id": "qAumiIvqHpJ1",
        "colab_type": "code",
        "colab": {}
      },
      "source": [
        ""
      ],
      "execution_count": 0,
      "outputs": []
    }
  ]
}